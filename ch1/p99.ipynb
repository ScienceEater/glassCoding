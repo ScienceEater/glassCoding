{
 "cells": [
  {
   "cell_type": "code",
   "execution_count": 41,
   "metadata": {},
   "outputs": [],
   "source": [
    "import time\n",
    "N, K = 999999999999999999, 2\n",
    "n, k = 999999999999999999, 2"
   ]
  },
  {
   "cell_type": "code",
   "execution_count": 21,
   "metadata": {
    "scrolled": false
   },
   "outputs": [
    {
     "name": "stdout",
     "output_type": "stream",
     "text": [
      "2 4611686018427387903\n",
      "4 2305843009213693951\n",
      "6 1152921504606846975\n",
      "8 576460752303423487\n",
      "10 288230376151711743\n",
      "12 144115188075855871\n",
      "14 72057594037927935\n",
      "16 36028797018963967\n",
      "18 18014398509481983\n",
      "20 9007199254740991\n",
      "22 4503599627370495\n",
      "24 2251799813685247\n",
      "26 1125899906842623\n",
      "28 562949953421311\n",
      "30 281474976710655\n",
      "32 140737488355327\n",
      "34 70368744177663\n",
      "36 35184372088831\n",
      "38 17592186044415\n",
      "40 8796093022207\n",
      "42 4398046511103\n",
      "44 2199023255551\n",
      "46 1099511627775\n",
      "48 549755813887\n",
      "50 274877906943\n",
      "52 137438953471\n",
      "54 68719476735\n",
      "56 34359738367\n",
      "58 17179869183\n",
      "60 8589934591\n",
      "62 4294967295\n",
      "64 2147483647\n",
      "66 1073741823\n",
      "68 536870911\n",
      "70 268435455\n",
      "72 134217727\n",
      "74 67108863\n",
      "76 33554431\n",
      "78 16777215\n",
      "80 8388607\n",
      "82 4194303\n",
      "84 2097151\n",
      "86 1048575\n",
      "88 524287\n",
      "90 262143\n",
      "92 131071\n",
      "94 65535\n",
      "96 32767\n",
      "98 16383\n",
      "100 8191\n",
      "102 4095\n",
      "104 2047\n",
      "106 1023\n",
      "108 511\n",
      "110 255\n",
      "112 127\n",
      "114 63\n",
      "116 31\n",
      "118 15\n",
      "120 7\n",
      "122 3\n",
      "124 1\n",
      "124\n"
     ]
    }
   ],
   "source": [
    "# start = time.time_ns()\n",
    "\n",
    "# N, K = map(int, input().split())\n",
    "# N, K = 99999999999999, 2\n",
    "N, K = 9223372036854775807, 2\n",
    "\n",
    "count = 0\n",
    "while(N != 1):\n",
    "    if N % K == 0:\n",
    "        N = N//K  # siba N/K makes error\n",
    "        count += 1\n",
    "        print(count, N)\n",
    "    else:\n",
    "        N -= 1\n",
    "        count += 1\n",
    "        \n",
    "print(count)\n",
    "# print(\"time elapsed: \", time.time_ns() - start)"
   ]
  },
  {
   "cell_type": "code",
   "execution_count": 23,
   "metadata": {},
   "outputs": [
    {
     "data": {
      "text/plain": [
       "-2"
      ]
     },
     "execution_count": 23,
     "metadata": {},
     "output_type": "execute_result"
    }
   ],
   "source": [
    "7%-3"
   ]
  },
  {
   "cell_type": "code",
   "execution_count": 24,
   "metadata": {},
   "outputs": [
    {
     "data": {
      "text/plain": [
       "-3"
      ]
     },
     "execution_count": 24,
     "metadata": {},
     "output_type": "execute_result"
    }
   ],
   "source": [
    "7//-3"
   ]
  },
  {
   "cell_type": "code",
   "execution_count": 25,
   "metadata": {},
   "outputs": [
    {
     "data": {
      "text/plain": [
       "(-3, -2)"
      ]
     },
     "execution_count": 25,
     "metadata": {},
     "output_type": "execute_result"
    }
   ],
   "source": [
    "divmod(7, -3)"
   ]
  },
  {
   "cell_type": "code",
   "execution_count": 20,
   "metadata": {},
   "outputs": [
    {
     "name": "stdout",
     "output_type": "stream",
     "text": [
      "9223372036854775807\n",
      "<class 'int'>\n",
      "<class 'int'>\n"
     ]
    }
   ],
   "source": [
    "import sys\n",
    "\n",
    "t1 = sys.maxsize\n",
    "t2 = sys.maxsize + 1\n",
    "# min = -sys.maxsize - 1\n",
    "\n",
    "# float('inf')\n",
    "# float('-inf')\n",
    "print(t1)\n",
    "\n",
    "print(type(t1))\n",
    "print(type(t2))"
   ]
  },
  {
   "cell_type": "code",
   "execution_count": 22,
   "metadata": {},
   "outputs": [
    {
     "name": "stdout",
     "output_type": "stream",
     "text": [
      "2 4.611686018427388e+18\n",
      "3 2.305843009213694e+18\n",
      "4 1.152921504606847e+18\n",
      "5 5.764607523034235e+17\n",
      "6 2.8823037615171174e+17\n",
      "7 1.4411518807585587e+17\n",
      "8 7.205759403792794e+16\n",
      "9 3.602879701896397e+16\n",
      "10 1.8014398509481984e+16\n",
      "11 9007199254740992.0\n",
      "12 4503599627370496.0\n",
      "13 2251799813685248.0\n",
      "14 1125899906842624.0\n",
      "15 562949953421312.0\n",
      "16 281474976710656.0\n",
      "17 140737488355328.0\n",
      "18 70368744177664.0\n",
      "19 35184372088832.0\n",
      "20 17592186044416.0\n",
      "21 8796093022208.0\n",
      "22 4398046511104.0\n",
      "23 2199023255552.0\n",
      "24 1099511627776.0\n",
      "25 549755813888.0\n",
      "26 274877906944.0\n",
      "27 137438953472.0\n",
      "28 68719476736.0\n",
      "29 34359738368.0\n",
      "30 17179869184.0\n",
      "31 8589934592.0\n",
      "32 4294967296.0\n",
      "33 2147483648.0\n",
      "34 1073741824.0\n",
      "35 536870912.0\n",
      "36 268435456.0\n",
      "37 134217728.0\n",
      "38 67108864.0\n",
      "39 33554432.0\n",
      "40 16777216.0\n",
      "41 8388608.0\n",
      "42 4194304.0\n",
      "43 2097152.0\n",
      "44 1048576.0\n",
      "45 524288.0\n",
      "46 262144.0\n",
      "47 131072.0\n",
      "48 65536.0\n",
      "49 32768.0\n",
      "50 16384.0\n",
      "51 8192.0\n",
      "52 4096.0\n",
      "53 2048.0\n",
      "54 1024.0\n",
      "55 512.0\n",
      "56 256.0\n",
      "57 128.0\n",
      "58 64.0\n",
      "59 32.0\n",
      "60 16.0\n",
      "61 8.0\n",
      "62 4.0\n",
      "63 2.0\n",
      "64 1.0\n",
      "64\n"
     ]
    }
   ],
   "source": [
    "# revise\n",
    "# start = time.time_ns()\n",
    "\n",
    "# N, K = map(int, input().split())\n",
    "# N, K = 99999999999999999, 2\n",
    "N, K = 9223372036854775807, 2\n",
    "\n",
    "count = 0\n",
    "while(N != 1):\n",
    "    if N % K == 0:\n",
    "        N = N/K  # siba N/K makes error -> 자릿수 표현이 문제였구나.\n",
    "        count += 1\n",
    "        print(count, N)\n",
    "    else:\n",
    "        N -= 1\n",
    "        count += 1\n",
    "        \n",
    "print(count)\n",
    "# print(\"time elapsed: \", time.time_ns() - start)"
   ]
  },
  {
   "cell_type": "code",
   "execution_count": 1,
   "metadata": {},
   "outputs": [
    {
     "data": {
      "text/plain": [
       "False"
      ]
     },
     "execution_count": 1,
     "metadata": {},
     "output_type": "execute_result"
    }
   ],
   "source": [
    "4.5%2 == 0"
   ]
  },
  {
   "cell_type": "code",
   "execution_count": 38,
   "metadata": {},
   "outputs": [
    {
     "name": "stdout",
     "output_type": "stream",
     "text": [
      "99\n",
      "time elapsed:  0\n"
     ]
    }
   ],
   "source": [
    "# ans 1\n",
    "start = time.time_ns()\n",
    "# n, k  = map(int, input().split())\n",
    "result = 0\n",
    "\n",
    "while n >= k:\n",
    "    while n % k != 0:\n",
    "        n -= 1\n",
    "        result += 1\n",
    "    n //= k\n",
    "    result += 1\n",
    "\n",
    "while n > 1:\n",
    "    n -= 1\n",
    "    result += 1\n",
    "    \n",
    "print(result)\n",
    "print(\"time elapsed: \", time.time_ns() - start)"
   ]
  },
  {
   "cell_type": "code",
   "execution_count": 40,
   "metadata": {},
   "outputs": [
    {
     "name": "stdout",
     "output_type": "stream",
     "text": [
      "99\n",
      "time elapsed: 0 sec\n"
     ]
    }
   ],
   "source": [
    "# ans 2\n",
    "start = time.time_ns()\n",
    "# n, k = map(int, input().split())\n",
    "result = 0\n",
    "\n",
    "while True:\n",
    "    target = (n // k) * k\n",
    "    result += (n - target)\n",
    "    n = target\n",
    "    \n",
    "    if n < k:\n",
    "        break\n",
    "    result += 1\n",
    "    n //= k\n",
    "\n",
    "result += (n-1)\n",
    "print(result)\n",
    "# print(\"time elapsed: \", time.time() - start)\n",
    "print(\"time elapsed: {} sec\".format(time.time_ns() - start))"
   ]
  },
  {
   "cell_type": "code",
   "execution_count": null,
   "metadata": {},
   "outputs": [],
   "source": [
    "# python basic operators\n",
    "# // makes floor quotient\n",
    "# / makes result after division = quotient"
   ]
  },
  {
   "cell_type": "code",
   "execution_count": 32,
   "metadata": {},
   "outputs": [
    {
     "name": "stdout",
     "output_type": "stream",
     "text": [
      "Hello world\n",
      "WorkingTime[my_func1]: 0.0 sec\n",
      "Good bye\n",
      "I wanna go home\n",
      "WorkingTime[my_func3]: 0.0 sec\n"
     ]
    }
   ],
   "source": [
    "# using decorator\n",
    "\n",
    "import time\n",
    "\n",
    "def logging_time(original_fn):\n",
    "    def wrapper_fn(*args, **kwargs):\n",
    "        start_time = time.time()\n",
    "        result = original_fn(*args, **kwargs)\n",
    "        end_time = time.time()\n",
    "        print(\"WorkingTime[{}]: {} sec\".format(original_fn.__name__, end_time-start_time))\n",
    "        return result\n",
    "    return wrapper_fn\n",
    "\n",
    "@logging_time\n",
    "def my_func1():\n",
    "    print(\"Hello world\")\n",
    "\n",
    "# No decorator\n",
    "def my_func2():\n",
    "    print(\"Good bye\")\n",
    "\n",
    "@logging_time\n",
    "def my_func3():\n",
    "    print(\"I wanna go home\")\n",
    "\n",
    "if __name__==\"__main__\":\n",
    "    my_func1()\n",
    "    my_func2()\n",
    "    my_func3()"
   ]
  },
  {
   "cell_type": "code",
   "execution_count": null,
   "metadata": {},
   "outputs": [],
   "source": []
  }
 ],
 "metadata": {
  "kernelspec": {
   "display_name": "Python 3",
   "language": "python",
   "name": "python3"
  },
  "language_info": {
   "codemirror_mode": {
    "name": "ipython",
    "version": 3
   },
   "file_extension": ".py",
   "mimetype": "text/x-python",
   "name": "python",
   "nbconvert_exporter": "python",
   "pygments_lexer": "ipython3",
   "version": "3.8.3"
  }
 },
 "nbformat": 4,
 "nbformat_minor": 4
}
